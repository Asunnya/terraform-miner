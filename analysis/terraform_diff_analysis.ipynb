{
  "cells": [
    {
      "cell_type": "markdown",
      "id": "7241ded4",
      "metadata": {},
      "source": [
        "# Análise de Diffs de Commits Terraform\n",
        "Este notebook percorre todo o diretório `dataset/`, carrega commits de cada repositório e exibe os patches aplicados, estruturando um DataFrame das mudanças.\n"
      ]
    },
    {
      "cell_type": "markdown",
      "id": "7562f23d",
      "metadata": {},
      "source": [
        "## 1. Importação de bibliotecas"
      ]
    },
    {
      "cell_type": "code",
      "execution_count": 21,
      "id": "138dbe9a",
      "metadata": {},
      "outputs": [],
      "source": [
        "import os\n",
        "import json\n",
        "import pandas as pd\n",
        "from IPython.display import Markdown, display"
      ]
    },
    {
      "cell_type": "markdown",
      "id": "a9c20011",
      "metadata": {},
      "source": [
        "## 2. Funções utilitárias"
      ]
    },
    {
      "cell_type": "code",
      "execution_count": 22,
      "id": "d9e7bc04",
      "metadata": {},
      "outputs": [],
      "source": [
        "\n",
        "\n",
        "def load_all_commit_jsonl(dataset_dir: str) -> list[dict]:\n",
        "    \"\"\"\n",
        "    Percorre `dataset_dir`, encontra todos os arquivos .jsonl e adiciona campo 'repo'.\n",
        "    \"\"\"\n",
        "    commits = []\n",
        "    for root, _, files in os.walk(dataset_dir):\n",
        "        repo = os.path.basename(root)\n",
        "        for fname in files:\n",
        "            if fname.endswith('.jsonl'):\n",
        "                path = os.path.join(root, fname)\n",
        "                with open(path, encoding='utf-8') as f:\n",
        "                    for line in f:\n",
        "                        data = json.loads(line)\n",
        "                        data['repo'] = repo\n",
        "                        commits.append(data)\n",
        "    return commits\n",
        "\n",
        "\n",
        "def parse_patch_to_dataframe(patch: str) -> pd.DataFrame:\n",
        "    \"\"\"\n",
        "    Transforma patch unificado em DataFrame com colunas: change (added/removed/context/meta) e content.\n",
        "    \"\"\"\n",
        "    rows = []\n",
        "    for line in patch.splitlines():\n",
        "        if line.startswith('+++') or line.startswith('---') or line.startswith('@@'):\n",
        "            change = 'meta'\n",
        "            content = line\n",
        "        elif line.startswith('+') and not line.startswith('+++'):\n",
        "            change = 'added'\n",
        "            content = line[1:]\n",
        "        elif line.startswith('-') and not line.startswith('---'):\n",
        "            change = 'removed'\n",
        "            content = line[1:]\n",
        "        else:\n",
        "            change = 'context'\n",
        "            content = line\n",
        "        rows.append({'change': change, 'content': content})\n",
        "    return pd.DataFrame(rows)"
      ]
    },
    {
      "cell_type": "markdown",
      "id": "66c0e998",
      "metadata": {},
      "source": [
        "## 3. Carregando e analisando commits"
      ]
    },
    {
      "cell_type": "code",
      "execution_count": null,
      "id": "f0989031",
      "metadata": {},
      "outputs": [],
      "source": [
        "dataset_dir = 'dataset'\n",
        "commits = load_all_commit_jsonl(dataset_dir)\n",
        "print(f\"Total de commits carregados: {len(commits)}\")"
      ]
    },
    {
      "cell_type": "markdown",
      "id": "03ba119d",
      "metadata": {},
      "source": [
        "## 4. Loop principal e exibição"
      ]
    },
    {
      "cell_type": "code",
      "execution_count": null,
      "id": "6e9f6744",
      "metadata": {},
      "outputs": [],
      "source": [
        "\n",
        "output_dir = 'reports/commits'\n",
        "os.makedirs(output_dir, exist_ok=True)\n",
        "\n",
        "for idx, commit in enumerate(commits, 1):\n",
        "    repo = commit.get('repo')\n",
        "    hash_ = commit.get('commit_hash')\n",
        "    safe_hash = hash_[:7]\n",
        "    author = commit.get('author')\n",
        "    date = commit.get('date')\n",
        "    message = commit.get('message')\n",
        "    file = commit.get('file')\n",
        "    patch = commit.get('patch', '')\n",
        "\n",
        "    md_lines = [\n",
        "        f\"# Commit {idx} — {repo}\",\n",
        "        f\"**Hash:** {hash_}\",\n",
        "        f\"**Autor:** {author}\",\n",
        "        f\"**Data:** {date}\",\n",
        "        f\"**Mensagem:** {message}\",\n",
        "        f\"**Arquivo:** {file}\",\n",
        "        \"```diff\"\n",
        "    ]\n",
        "    md_lines += patch.splitlines()\n",
        "    md_lines.append(\"```\")\n",
        "    md_path = os.path.join(output_dir, f\"commit_{repo}_{safe_hash}.md\")\n",
        "    with open(md_path, 'w', encoding='utf-8') as f:\n",
        "        f.write(\"\".join(md_lines))\n",
        "\n",
        "    df = parse_patch_to_dataframe(patch)\n",
        "    if not df.empty:\n",
        "        csv_path = os.path.join(output_dir, f\"diff_{repo}_{safe_hash}.csv\")\n",
        "        df.to_csv(csv_path, index=False, encoding='utf-8')\n",
        "        print(f\"Relatório salvo: {md_path}, {csv_path}\")\n",
        "    else:\n",
        "        print(f\"Nenhuma mudança em commit {idx}: {repo} {safe_hash}\")"
      ]
    },
    {
      "cell_type": "markdown",
      "id": "f106d7a7",
      "metadata": {},
      "source": [
        "## 5. Exportar relatórios"
      ]
    },
    {
      "cell_type": "code",
      "execution_count": null,
      "id": "947fbea3",
      "metadata": {},
      "outputs": [],
      "source": [
        "import os\n",
        "output_dir = 'reports'\n",
        "os.makedirs(output_dir, exist_ok=True)\n",
        "\n",
        "all_diffs = []\n",
        "\n",
        "for idx, commit in enumerate(commits, 1):\n",
        "    repo = commit.get('repo')\n",
        "    hash_ = commit.get('commit_hash')\n",
        "    safe_hash = hash_[:7]\n",
        "    patch = commit.get('patch', '')\n",
        "\n",
        "    df = parse_patch_to_dataframe(patch)\n",
        "    if df.empty:\n",
        "        continue\n",
        "\n",
        "    df.insert(0, 'repo', repo)\n",
        "    df.insert(1, 'commit', safe_hash)\n",
        "    df.insert(2, 'file', commit.get('file', ''))\n",
        "    all_diffs.append(df)\n",
        "\n",
        "    csv_path = os.path.join(output_dir, f'diff_{repo}_{safe_hash}.csv')\n",
        "    df.to_csv(csv_path, index=False, encoding='utf-8')\n",
        "\n",
        "    html_lines = [\n",
        "        '<html><body>',\n",
        "        f'<h2>Commit {idx} — {repo} ({safe_hash})</h2>',\n",
        "        '<pre>'\n",
        "    ]\n",
        "    html_lines += [line.replace('<', '&lt;') for line in patch.splitlines()]\n",
        "    html_lines += ['</pre></body></html>']\n",
        "    html_content = ''.join(html_lines)\n",
        "    html_path = os.path.join(output_dir, f'patch_{repo}_{safe_hash}.html')\n",
        "    with open(html_path, 'w', encoding='utf-8') as f:\n",
        "        f.write(html_content)\n",
        "\n",
        "    print(f\"Exportado: {csv_path} e {html_path}\")\n",
        "\n",
        "if all_diffs:\n",
        "    df_all = pd.concat(all_diffs, ignore_index=True)\n",
        "    full_csv = os.path.join(output_dir, 'all_diffs.csv')\n",
        "    df_all.to_csv(full_csv, index=False, encoding='utf-8')\n",
        "    print(f\"CSV consolidado em: {full_csv}\")\n",
        "\n",
        "    html_full = ['<html><body>', '<h1>Relatório Consolidado de Diffs</h1>']\n",
        "    for df in all_diffs:\n",
        "        repo = df.iloc[0]['repo']\n",
        "        commit = df.iloc[0]['commit']\n",
        "        html_full.append(f'<h2>{repo} — {commit}</h2>')\n",
        "        html_full.append(df.to_html(index=False, escape=False))\n",
        "    html_full.append('</body></html>')\n",
        "    full_html = os.path.join(output_dir, 'all_diffs.html')\n",
        "    with open(full_html, 'w', encoding='utf-8') as f:\n",
        "        f.write(''.join(html_full))\n",
        "    print(f\"HTML consolidado em: {full_html}\")"
      ]
    },
    {
      "cell_type": "code",
      "execution_count": null,
      "id": "fbebf290",
      "metadata": {},
      "outputs": [],
      "source": []
    }
  ],
  "metadata": {
    "kernelspec": {
      "display_name": ".venv",
      "language": "python",
      "name": "python3"
    },
    "language_info": {
      "codemirror_mode": {
        "name": "ipython",
        "version": 3
      },
      "file_extension": ".py",
      "mimetype": "text/x-python",
      "name": "python",
      "nbconvert_exporter": "python",
      "pygments_lexer": "ipython3",
      "version": "3.12.9"
    }
  },
  "nbformat": 4,
  "nbformat_minor": 5
}
